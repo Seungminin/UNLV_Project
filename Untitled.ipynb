{
 "cells": [
  {
   "cell_type": "code",
   "execution_count": 1,
   "id": "0788529d-afba-48cd-8688-9f3f349080d5",
   "metadata": {},
   "outputs": [],
   "source": [
    "import pandas as pd\n",
    "from sklearn.model_selection import KFold\n",
    "from sklearn.linear_model import LogisticRegression\n",
    "from sklearn.tree import DecisionTreeClassifier\n",
    "from sklearn.ensemble import RandomForestClassifier\n",
    "from catboost import CatBoostClassifier\n",
    "\n",
    "from sklearn.experimental import enable_iterative_imputer\n",
    "from sklearn.impute import IterativeImputer\n",
    "\n",
    "from xgboost import XGBClassifier\n",
    "from sklearn.naive_bayes import GaussianNB\n",
    "import lightgbm as lgb\n",
    "from sklearn.model_selection import cross_val_score\n",
    "from sklearn.metrics import roc_auc_score, confusion_matrix, classification_report, f1_score\n",
    "import numpy as np\n",
    "import time\n",
    "import warnings\n",
    "warnings.filterwarnings('ignore')"
   ]
  },
  {
   "cell_type": "code",
   "execution_count": 4,
   "id": "d51ec115-2bef-4abb-a1a1-c413f53bc8c9",
   "metadata": {},
   "outputs": [
    {
     "data": {
      "text/plain": [
       "Index(['Unnamed: 0', 'days_from_entrance', 'age', 'document.sexo', 'UTI',\n",
       "       'delta_collect_timestamp_t-t1', 'delta_collect_timestamp_t1-t2',\n",
       "       'delta_collect_timestamp_t2-t3', 'delta_collect_timestamp_t3-t4',\n",
       "       'document.freq_cardiaca(t)', 'document.freq_cardiaca(t-1)',\n",
       "       'document.freq_cardiaca(t-2)', 'document.freq_cardiaca(t-3)',\n",
       "       'document.freq_cardiaca(t-4)', 'document.freq_respiratoria(t)',\n",
       "       'document.freq_respiratoria(t-1)', 'document.freq_respiratoria(t-2)',\n",
       "       'document.freq_respiratoria(t-3)', 'document.freq_respiratoria(t-4)',\n",
       "       'document.glicemia_capilar(t)', 'document.glicemia_capilar(t-1)',\n",
       "       'document.glicemia_capilar(t-2)', 'document.glicemia_capilar(t-3)',\n",
       "       'document.glicemia_capilar(t-4)', 'document.pa_diastolica(t)',\n",
       "       'document.pa_diastolica(t-1)', 'document.pa_diastolica(t-2)',\n",
       "       'document.pa_diastolica(t-3)', 'document.pa_diastolica(t-4)',\n",
       "       'document.pa_sistolica(t)', 'document.pa_sistolica(t-1)',\n",
       "       'document.pa_sistolica(t-2)', 'document.pa_sistolica(t-3)',\n",
       "       'document.pa_sistolica(t-4)', 'document.sat_o2(t)',\n",
       "       'document.sat_o2(t-1)', 'document.sat_o2(t-2)', 'document.sat_o2(t-3)',\n",
       "       'document.sat_o2(t-4)', 'document.temperatura(t)',\n",
       "       'document.temperatura(t-1)', 'document.temperatura(t-2)',\n",
       "       'document.temperatura(t-3)', 'document.temperatura(t-4)',\n",
       "       'delta_document.freq_cardiaca_t-t1',\n",
       "       'delta_document.freq_cardiaca_t1-t2',\n",
       "       'delta_document.freq_cardiaca_t2-t3',\n",
       "       'delta_document.freq_cardiaca_t3-t4',\n",
       "       'delta_document.freq_respiratoria_t-t1',\n",
       "       'delta_document.freq_respiratoria_t1-t2',\n",
       "       'delta_document.freq_respiratoria_t2-t3',\n",
       "       'delta_document.freq_respiratoria_t3-t4',\n",
       "       'delta_document.glicemia_capilar_t-t1',\n",
       "       'delta_document.glicemia_capilar_t1-t2',\n",
       "       'delta_document.glicemia_capilar_t2-t3',\n",
       "       'delta_document.glicemia_capilar_t3-t4',\n",
       "       'delta_document.pa_diastolica_t-t1',\n",
       "       'delta_document.pa_diastolica_t1-t2',\n",
       "       'delta_document.pa_diastolica_t2-t3',\n",
       "       'delta_document.pa_diastolica_t3-t4',\n",
       "       'delta_document.pa_sistolica_t-t1', 'delta_document.pa_sistolica_t1-t2',\n",
       "       'delta_document.pa_sistolica_t2-t3',\n",
       "       'delta_document.pa_sistolica_t3-t4', 'delta_document.sat_o2_t-t1',\n",
       "       'delta_document.sat_o2_t1-t2', 'delta_document.sat_o2_t2-t3',\n",
       "       'delta_document.sat_o2_t3-t4', 'delta_document.temperatura_t-t1',\n",
       "       'delta_document.temperatura_t1-t2', 'delta_document.temperatura_t2-t3',\n",
       "       'delta_document.temperatura_t3-t4', 'outcome'],\n",
       "      dtype='object')"
      ]
     },
     "execution_count": 4,
     "metadata": {},
     "output_type": "execute_result"
    }
   ],
   "source": [
    "base_path = \"Dataset/heg_sample_data.csv\"\n",
    "\n",
    "dataset = pd.read_csv(base_path)\n",
    "\n",
    "dataset.columns"
   ]
  },
  {
   "cell_type": "code",
   "execution_count": 3,
   "id": "561dae3f-eb80-4e63-8c80-903b246bc1e1",
   "metadata": {},
   "outputs": [
    {
     "name": "stdout",
     "output_type": "stream",
     "text": [
      "Python 3.8.10\n"
     ]
    }
   ],
   "source": [
    "!python --version"
   ]
  }
 ],
 "metadata": {
  "kernelspec": {
   "display_name": "Python 3",
   "language": "python",
   "name": "python3"
  },
  "language_info": {
   "codemirror_mode": {
    "name": "ipython",
    "version": 3
   },
   "file_extension": ".py",
   "mimetype": "text/x-python",
   "name": "python",
   "nbconvert_exporter": "python",
   "pygments_lexer": "ipython3",
   "version": "3.8.10"
  }
 },
 "nbformat": 4,
 "nbformat_minor": 5
}
